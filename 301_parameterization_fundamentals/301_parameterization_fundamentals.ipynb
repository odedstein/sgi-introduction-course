{
 "cells": [
  {
   "cell_type": "code",
   "execution_count": 1,
   "metadata": {},
   "outputs": [
    {
     "name": "stdout",
     "output_type": "stream",
     "text": [
      "Collecting libigl\n",
      "  Downloading libigl-2.5.1-cp38-cp38-macosx_10_13_x86_64.whl (14.4 MB)\n",
      "\u001b[K     |████████████████████████████████| 14.4 MB 20 kB/s  eta 0:00:01     |██████████████████████████████▉ | 13.8 MB 5.6 MB/s eta 0:00:01\n",
      "\u001b[?25hRequirement already satisfied: matplotlib in /opt/anaconda3/lib/python3.8/site-packages (3.3.4)\n",
      "Requirement already satisfied: numpy in /opt/anaconda3/lib/python3.8/site-packages (1.20.1)\n",
      "Collecting polyscope\n",
      "  Downloading polyscope-2.2.1-cp38-cp38-macosx_10_9_x86_64.whl (3.5 MB)\n",
      "\u001b[K     |████████████████████████████████| 3.5 MB 8.4 MB/s eta 0:00:01\n",
      "\u001b[?25hCollecting gpytoolbox\n",
      "  Downloading gpytoolbox-0.3.0-cp38-cp38-macosx_10_16_x86_64.whl (9.5 MB)\n",
      "\u001b[K     |████████████████████████████████| 9.5 MB 7.0 MB/s eta 0:00:01\n",
      "\u001b[?25hRequirement already satisfied: scipy in /opt/anaconda3/lib/python3.8/site-packages (from gpytoolbox) (1.6.2)\n",
      "Requirement already satisfied: scikit-image in /opt/anaconda3/lib/python3.8/site-packages (from gpytoolbox) (0.18.1)\n",
      "Requirement already satisfied: kiwisolver>=1.0.1 in /opt/anaconda3/lib/python3.8/site-packages (from matplotlib) (1.3.1)\n",
      "Requirement already satisfied: pillow>=6.2.0 in /opt/anaconda3/lib/python3.8/site-packages (from matplotlib) (8.2.0)\n",
      "Requirement already satisfied: pyparsing!=2.0.4,!=2.1.2,!=2.1.6,>=2.0.3 in /opt/anaconda3/lib/python3.8/site-packages (from matplotlib) (2.4.7)\n",
      "Requirement already satisfied: python-dateutil>=2.1 in /opt/anaconda3/lib/python3.8/site-packages (from matplotlib) (2.8.1)\n",
      "Requirement already satisfied: cycler>=0.10 in /opt/anaconda3/lib/python3.8/site-packages (from matplotlib) (0.10.0)\n",
      "Requirement already satisfied: six in /opt/anaconda3/lib/python3.8/site-packages (from cycler>=0.10->matplotlib) (1.15.0)\n",
      "Requirement already satisfied: networkx>=2.0 in /opt/anaconda3/lib/python3.8/site-packages (from scikit-image->gpytoolbox) (2.5)\n",
      "Requirement already satisfied: imageio>=2.3.0 in /opt/anaconda3/lib/python3.8/site-packages (from scikit-image->gpytoolbox) (2.9.0)\n",
      "Requirement already satisfied: tifffile>=2019.7.26 in /opt/anaconda3/lib/python3.8/site-packages (from scikit-image->gpytoolbox) (2020.10.1)\n",
      "Requirement already satisfied: PyWavelets>=1.1.1 in /opt/anaconda3/lib/python3.8/site-packages (from scikit-image->gpytoolbox) (1.1.1)\n",
      "Requirement already satisfied: decorator>=4.3.0 in /opt/anaconda3/lib/python3.8/site-packages (from networkx>=2.0->scikit-image->gpytoolbox) (5.0.6)\n",
      "Installing collected packages: polyscope, libigl, gpytoolbox\n",
      "Successfully installed gpytoolbox-0.3.0 libigl-2.5.1 polyscope-2.2.1\n"
     ]
    }
   ],
   "source": [
    "!pip install libigl matplotlib numpy polyscope gpytoolbox"
   ]
  },
  {
   "cell_type": "code",
   "execution_count": 3,
   "metadata": {},
   "outputs": [],
   "source": [
    "## Testing polyscope works in jupyter server \n",
    "import polyscope as ps \n",
    "import numpy as np\n",
    "\n",
    "ps.init()\n",
    "ps.remove_all_structures()\n",
    "ps.register_surface_mesh(\"single tri\", np.array([[0,0,0],[0,1,0],[0,0,1]]), np.array([[0,1,2]]), edge_width=1)\n",
    "ps.show()"
   ]
  },
  {
   "cell_type": "markdown",
   "metadata": {},
   "source": [
    "## Mesh Parameterization Intro Pt. 1\n",
    "In this notebook we will"
   ]
  },
  {
   "cell_type": "code",
   "execution_count": null,
   "metadata": {},
   "outputs": [],
   "source": [
    "### Example 1: Single 3D Triangle ###\n",
    "\n",
    "# Define the triangle and visualize"
   ]
  },
  {
   "cell_type": "code",
   "execution_count": null,
   "metadata": {},
   "outputs": [],
   "source": [
    "# Every possible parameterization of the triangle can be represented by a 3x2 linear transformation and corresponding 2-D translation\n",
    "\n",
    "# Let's show this by assigning arbitrary 2D points to the triangle vertices and finding the linear transformation (i.e. Jacobian) which corresponds with them"
   ]
  },
  {
   "cell_type": "code",
   "execution_count": null,
   "metadata": {},
   "outputs": [],
   "source": [
    "# There's another way to define a parameterization: project the points onto the subspace defined by any two triangle edge vectors\n",
    "# We will refer to this as the trivial parameterization (in which each triangle is projected onto its local basis to define an isometric embedding)"
   ]
  },
  {
   "cell_type": "code",
   "execution_count": null,
   "metadata": {},
   "outputs": [],
   "source": [
    "# Let's confirm the trivial parameterization is distortionless by computing its singular values"
   ]
  },
  {
   "cell_type": "code",
   "execution_count": null,
   "metadata": {},
   "outputs": [],
   "source": [
    "### Example 2: Open Pyramid ###\n",
    "# We will now see the effect of different choices of barycentric coordinates (spring constants) on the resulting parameterization"
   ]
  }
 ],
 "metadata": {
  "kernelspec": {
   "display_name": "Python 3",
   "language": "python",
   "name": "python3"
  },
  "language_info": {
   "codemirror_mode": {
    "name": "ipython",
    "version": 3
   },
   "file_extension": ".py",
   "mimetype": "text/x-python",
   "name": "python",
   "nbconvert_exporter": "python",
   "pygments_lexer": "ipython3",
   "version": "3.8.8"
  }
 },
 "nbformat": 4,
 "nbformat_minor": 2
}
