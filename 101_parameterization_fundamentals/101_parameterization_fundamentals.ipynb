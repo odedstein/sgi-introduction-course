{
 "cells": [
  {
   "cell_type": "code",
   "execution_count": null,
   "metadata": {},
   "outputs": [],
   "source": [
    "!pip install libigl matplotlib numpy polyscope gpytoolbox"
   ]
  },
  {
   "cell_type": "markdown",
   "metadata": {},
   "source": [
    "## Introduction to Mesh Parameterization: Follow-Along Coding \n",
    "In this notebook we will run through some of the computations that you will be asked to perform in your exercises, on a simpler set of meshes. \n",
    "\n",
    "\n",
    "We will first demonstrate how to perform a trivial (triangle soup) parameterization on the simplest mesh possible -- a single triangle, and verify that the trivial parameterization is in fact distortionless. You will be expected to know how to scale this trivial parameterization to arbitrary meshes for assignment 103. \n",
    "\n",
    "\n",
    "By the time you run through this notebook, you should have a clearer understanding of how to set up and solve the linear system for computing the Tutte embedding, as well as how to alter the system for different choices of Laplacian weights. \n",
    "\n",
    "\n",
    "Furthermore, you should know how to compute the Jacobian of the parameterization, obtain the singular values, measure the different types of distortion, and visualize them. "
   ]
  },
  {
   "cell_type": "markdown",
   "metadata": {},
   "source": [
    "### Part 1: Single Triangle Parameterization ###\n",
    "In the case we want to obtain a perfect parameterization of every triangle in the mesh, and we don't care about cuts, then we can always use the trivial parameterization, which projects each vertex of a triangle onto its local basis (see figure below). \n",
    "\n",
    "![image](local_basis.png)\n",
    "\n",
    "In the above image $x_i$ is set to the origin of the local basis, and the triangle edge $x_j - x_i$ is chosen as the first basis vector $X$. From there, the normal is computed as the cross product between the two triangle edges connected to $x_i$, and another cross product is taken to get the second basis vector $Y$. \n",
    "\n",
    "After these local (2D) bases are defined, we can find the coordinates of each triangle vertex in terms of these bases using the dot product. Specifically, we take the dot product between the edge vectors of each vertex with $X$, $Y$ respectively to get the local coordinates $(u, v)$, which are the 2D parameterization coordinates. The parameterization coordinates for the triangle in the figure are explicitly written out below. \n",
    "\n",
    "$$\\begin{align*}\n",
    "u_i = (0, 0) \\text{ since } v_i \\text{ is the origin in the local basis} \\\\\n",
    "u_j = ((x_j - x_i) \\cdot X, (x_j - x_i) \\cdot Y) \\\\\n",
    "u_k = ((x_k - x_i) \\cdot X, (x_k - x_i) \\cdot Y) \\\\\n",
    "\\end{align*}$$"
   ]
  },
  {
   "cell_type": "code",
   "execution_count": 2,
   "metadata": {},
   "outputs": [],
   "source": [
    "import numpy as np\n",
    "\n",
    "# This function computes a trivial parameterization of a single triangle using the technique described above.\n",
    "def trivial_parameterization(triangle):\n",
    "    # Local basis origin is the first triangle vertex\n",
    "    origin = triangle[0]\n",
    "\n",
    "    # Get the normal of the plane defined by the triangle\n",
    "    e1 = triangle[1] - origin\n",
    "    e2 = triangle[2] - origin\n",
    "    normal = np.cross(e1, e2)\n",
    "    normal /= np.linalg.norm(normal)\n",
    "\n",
    "    # We will use e1 as the first basis. Second basis will be cross between e1 and the normal\n",
    "    basis1 = e1 / np.linalg.norm(e1)\n",
    "    basis2 = np.cross(normal, basis1)\n",
    "    basis2 /= np.linalg.norm(basis2)\n",
    "\n",
    "    # First vertex is the origin. Project the other two vertices onto the local bases.\n",
    "    uv0 = np.array([0,0])\n",
    "    uv1 = np.array([np.dot(e1, basis1), np.dot(e1, basis2)])\n",
    "    uv2 = np.array([np.dot(e2, basis1), np.dot(e2, basis2)])\n",
    "\n",
    "    return np.array([uv0, uv1, uv2]), origin, basis1, basis2"
   ]
  },
  {
   "cell_type": "code",
   "execution_count": 4,
   "metadata": {},
   "outputs": [],
   "source": [
    "# Define a triangle and compute its trivial parameterization\n",
    "triangle = np.array([[5.1, 2.8, 9.9],\n",
    "                     [-1, 8, 2.3],\n",
    "                     [8, 4.4, 6.7]])\n",
    "\n",
    "uvs, origin, basis1, basis2 = trivial_parameterization(triangle)"
   ]
  },
  {
   "cell_type": "markdown",
   "metadata": {},
   "source": [
    "The below polyscope code visualizes the original 3D triangle (blue) with the local bases $X$ (red) and $Y$ (blue) plotted. The parameterization triangle (green) is also plotted. "
   ]
  },
  {
   "cell_type": "code",
   "execution_count": 6,
   "metadata": {},
   "outputs": [],
   "source": [
    "# Visualize the bases and the UV coordinates\n",
    "import polyscope as ps\n",
    "\n",
    "ps.init()\n",
    "ps.remove_all_structures()\n",
    "ps.register_surface_mesh(\"single tri\", triangle, np.array([[0,1,2]]), edge_width=1, color = (0.1, 0.2, 1))\n",
    "ps.register_curve_network(\"basis1\", np.array([origin, origin + basis1]), np.array([[0,1]]), radius=0.01, color=(1, 0, 0))\n",
    "ps.register_curve_network(\"basis2\", np.array([origin, origin + basis2]), np.array([[0,1]]), radius=0.01, color=(0, 0, 1))\n",
    "ps.register_surface_mesh(\"uv tri\", uvs, np.array([[0,1,2]]), edge_width=1, color = (0.2, 1, 0.2))\n",
    "ps.reset_camera_to_home_view()\n",
    "ps.show()"
   ]
  },
  {
   "cell_type": "markdown",
   "metadata": {},
   "source": [
    "Let's confirm that the trivial parameterization is indeed distortionless by finding the Jacobian of the mapping. \n",
    "\n",
    "This is as simple as getting the gradient operator of this triangle, reshaping a bit, and multiplying it against the parameterization values. "
   ]
  },
  {
   "cell_type": "code",
   "execution_count": null,
   "metadata": {},
   "outputs": [],
   "source": [
    "def get_jacobian(vs, fs, uvmap):\n",
    "    \"\"\" Get jacobian of mesh given an input UV map\n",
    "\n",
    "    Args:\n",
    "        vs (np.ndarray): V x 3 array of vertex positions\n",
    "        fs (np.ndarray): F x 3 integer array of face indices\n",
    "        uvmap (np.ndarray): V x 2 array of UV coordinates\n",
    "\n",
    "    Returns:\n",
    "        _type_: _description_\n",
    "    \"\"\"\n",
    "    # Visualize distortion\n",
    "    from igl import grad\n",
    "    G = np.array(grad(vs, fs).todense())\n",
    "\n",
    "    # NOTE: currently gradient is organized as X1, X2, X3, ... Y1, Y2, Y3, ... Z1, Z2, Z3 ... reshape to X1, Y1, Z1, ...\n",
    "    splitind = G.shape[0]//3\n",
    "    newG = np.zeros_like(G) # F*3 x V\n",
    "    newG[::3] = G[:splitind]\n",
    "    newG[1::3] = G[splitind:2*splitind]\n",
    "    newG[2::3] = G[2*splitind:]\n",
    "\n",
    "    J = (newG @ uvmap).reshape(-1, 3, 2) # F x 3 x 2\n",
    "    return J\n",
    "\n",
    "J = get_jacobian(triangle, np.array([[0,1,2]]), uvs)"
   ]
  },
  {
   "cell_type": "markdown",
   "metadata": {},
   "source": [
    "![image](ss.png)\n",
    "\n",
    "We can use numpy to obtain the singular values of this map. Recall that each face of the mesh gets two singular values, with the distortion measures defined above. "
   ]
  },
  {
   "cell_type": "code",
   "execution_count": 17,
   "metadata": {},
   "outputs": [
    {
     "name": "stdout",
     "output_type": "stream",
     "text": [
      "##### Singular values of the trivial parameterization #####\n",
      "[1. 1.]\n"
     ]
    }
   ],
   "source": [
    "_, S, _ = np.linalg.svd(J)\n",
    "\n",
    "S = S[0] # Get singular values of first (only) face\n",
    "\n",
    "## Let's confirm there is no distortion\n",
    "# It is obvious if we just print the values\n",
    "print(\"##### Singular values of the trivial parameterization #####\")\n",
    "print(S)\n",
    "\n",
    "# Area preservation: s1 * s2 == 1\n",
    "assert np.isclose(S[0] * S[1], 1)\n",
    "\n",
    "# Conformal (Angle) preservation: s1 == s2\n",
    "assert np.isclose(S[0], S[1])\n",
    "\n",
    "# Isometric distortion: s1 == s2 == 1\n",
    "assert np.isclose(S[0], 1)\n",
    "assert np.isclose(S[1], 1)"
   ]
  },
  {
   "cell_type": "markdown",
   "metadata": {},
   "source": [
    "### Part 2: Fixed Boundary Parameterization of Simple Pyramid ###\n",
    "Now let's take a look at a slightly more difficult example -- an open pyramid (boundary at the base). We will compute fixed boundary parameterizations over this mesh using different choices of Laplacian weights (explained in the writeup). \n",
    "\n",
    "The code below will show how to setup the system of equations to be solved in matrix form, which will allow us to make use of standard Python libraries to solve them. It will also demonstrate how to recompute the parameterization using the same matrices with different sets of weights. Please refer to the exercise writeup to see how the matrix form of this linear system is derived. \n",
    "\n",
    "We will investigate how different choices of weights affects both the resulting distortion and the injectivity of the parameterization. "
   ]
  },
  {
   "cell_type": "code",
   "execution_count": 20,
   "metadata": {},
   "outputs": [],
   "source": [
    "### Define the pyramid and visualize\n",
    "pyramid_vs = np.array([[3, 0, 1],\n",
    "                    [-1, -1, 0],\n",
    "                    [1, -1, 0],\n",
    "                    [1, 1, 0],\n",
    "                    [-1, 1, 0]], dtype=np.float32)\n",
    "\n",
    "pyramid_fs = np.array([[0, 3, 2],\n",
    "                       [0, 4, 3],\n",
    "                       [0, 1, 2],\n",
    "                       [0, 4, 1]], dtype=int)\n",
    "\n",
    "## Rotate the mesh around to inspect it!\n",
    "ps.init()\n",
    "ps.remove_all_structures()\n",
    "ps.register_surface_mesh(\"pyramid\", pyramid_vs, pyramid_fs, edge_width=1)\n",
    "\n",
    "# The boundary points are indicated with red spheres\n",
    "boundaryvs = np.array([pyramid_vs[1], pyramid_vs[2], pyramid_vs[3], pyramid_vs[4]])\n",
    "boundaryes = np.array([[0,0], [1,1], [2,2], [3,3]])\n",
    "ps.register_curve_network(\"boundaries\", boundaryvs, boundaryes, radius=0.01, color=(1, 0, 0))\n",
    "\n",
    "ps.reset_camera_to_home_view()\n",
    "ps.show()"
   ]
  },
  {
   "cell_type": "markdown",
   "metadata": {},
   "source": [
    "The figure of the pyramid indicates there is an obvious choice of boundary positions we can set. For each of the 4 boundary vertices, we can simply drop the z-coordinate. Once we set the boundary positions, we can proceed to solving the Tutte parameterization problem. Recall that with the Tutte parameterization, all Laplacian (edge) weights are set to 1 ($w_{ij} in the below formula). \n",
    "\n",
    "$$\\min_{\\mathbf{U}} \\sum_{\\{i,j\\} \\in \\mathbf{E}} w_{ij} || \\mathbf{u}_i - \\mathbf{u}_j||^2$$"
   ]
  },
  {
   "cell_type": "code",
   "execution_count": 40,
   "metadata": {},
   "outputs": [
    {
     "name": "stdout",
     "output_type": "stream",
     "text": [
      "[4. 4. 4. 4. 4.]\n"
     ]
    }
   ],
   "source": [
    "### Set the boundary vertex positions\n",
    "boundary_idxs = [1, 2, 3, 4]\n",
    "boundary_positions = pyramid_vs[1:, :2]\n",
    "\n",
    "### The below code generates the matrices for the Tutte linear system\n",
    "def setup_tutte_matrices(vertices, faces, boundary_idxs):\n",
    "    \"\"\" Set up the Tutte linear system (laplacian weights of 1)\n",
    "\n",
    "    vertices (np.ndarray): V x 3 array of vertex positions\n",
    "    faces (np.ndarray): F x 3 integer array of face indices\n",
    "    boundary_idxs (np.ndarray): B array of boundary vertex indices\n",
    "    boundary_positions (np.ndarray): B x 2 array of boundary vertex positions\n",
    "\n",
    "    Returns:\n",
    "        L (np.ndarray): V x V Laplacian matrix with boundary values set to 0\n",
    "        Lb (np.ndarray): V x B boundary Laplacian\n",
    "    \"\"\"\n",
    "\n",
    "    # Initialize the laplacian matrix\n",
    "    L = np.zeros((vertices.shape[0], vertices.shape[0]))\n",
    "\n",
    "    # Get edge array\n",
    "    edges = np.concatenate((faces[:, [0, 1]], faces[:, [1, 2]], faces[:, [2, 0]]), axis=0)\n",
    "\n",
    "    L[edges] = 1\n",
    "\n",
    "    # Off-diagonal elements are negative and diagonal is the negative sum of the row\n",
    "    L = np.diag(np.sum(L, axis=1)) - L\n",
    "\n",
    "    Lb = L[:, boundary_idxs]\n",
    "\n",
    "    # Set the off-diagonal boundary columns to 0\n",
    "    Ldiag = np.diag(L).copy()\n",
    "\n",
    "    print(Ldiag)\n",
    "\n",
    "    L[:, boundary_idxs] = 0\n",
    "    np.fill_diagonal(L, Ldiag)\n",
    "\n",
    "    return L, Lb\n",
    "\n",
    "L, Lb = setup_tutte_matrices(pyramid_vs, pyramid_fs, boundary_idxs)\n",
    "\n",
    "### Solve the Tutte linear system\n",
    "tutte_solution = np.linalg.solve(L, Lb @ boundary_positions)\n",
    "\n",
    "# Final solution is combining the Tutte solution with the boundary positions\n",
    "tutte_uv = np.zeros((pyramid_vs.shape[0], 2))\n",
    "tutte_uv[boundary_idxs] = boundary_positions\n",
    "solution_idxs = np.setdiff1d(np.arange(pyramid_vs.shape[0]), boundary_idxs)\n",
    "tutte_uv[solution_idxs] = tutte_solution[solution_idxs]"
   ]
  },
  {
   "cell_type": "markdown",
   "metadata": {},
   "source": [
    "We can now visualize the final parameterization using Polyscope. What do you notice about the UV position of the single non-pinned vertex? Is the parameterization injective (do any triangles overlap)? Is this result expected based on what you learned about the choice of weights? "
   ]
  },
  {
   "cell_type": "code",
   "execution_count": null,
   "metadata": {},
   "outputs": [],
   "source": [
    "# Visualize the embedding\n",
    "ps.init()\n",
    "ps.remove_all_structures()\n",
    "ps_pyramid = ps.register_surface_mesh(\"pyramid\", pyramid_vs, pyramid_fs, edge_width=1, enabled=True)\n",
    "\n",
    "# Color the faces to get the correspondence\n",
    "fcolors = np.arange(pyramid_fs.shape[0])\n",
    "ps_pyramid.add_scalar_quantity(\"faces\", fcolors, defined_on='faces', cmap='viridis', enabled=True)\n",
    "\n",
    "# The boundary points are indicated with red spheres\n",
    "boundaryvs = np.array([pyramid_vs[1], pyramid_vs[2], pyramid_vs[3], pyramid_vs[4]])\n",
    "boundaryes = np.array([[0,0], [1,1], [2,2], [3,3]])\n",
    "ps.register_curve_network(\"boundaries\", boundaryvs, boundaryes, radius=0.01, color=(1, 0, 0), enabled=True)\n",
    "\n",
    "ps_tutte = ps.register_surface_mesh(\"tutte parameterization\", tutte_uv + np.array([[0, 3]]), pyramid_fs, edge_width=1, enabled=True)\n",
    "ps_tutte.add_scalar_quantity(\"faces\", fcolors, defined_on='faces', cmap='viridis', enabled=True)\n",
    "\n",
    "ps.reset_camera_to_home_view()\n",
    "ps.show()"
   ]
  },
  {
   "cell_type": "markdown",
   "metadata": {},
   "source": [
    "Let's compute and visualize the distortion of the Tutte embedding."
   ]
  },
  {
   "cell_type": "code",
   "execution_count": null,
   "metadata": {},
   "outputs": [],
   "source": [
    "## TODO:"
   ]
  },
  {
   "cell_type": "markdown",
   "metadata": {},
   "source": [
    "Recall the important connection we learned between choice of weights and the injectivity of the parameterization! \n",
    "\n",
    "**If the pinned bounary is convex and the weights are positive, the the solution to the linear system will be injective.**\n",
    "\n",
    "Now let's see the effect of a few other choices of weights. "
   ]
  },
  {
   "cell_type": "code",
   "execution_count": null,
   "metadata": {},
   "outputs": [],
   "source": []
  },
  {
   "cell_type": "markdown",
   "metadata": {},
   "source": [
    "Now try your hand at computing the parameterization with your own choice of weights! What do you observe? "
   ]
  },
  {
   "cell_type": "markdown",
   "metadata": {},
   "source": []
  }
 ],
 "metadata": {
  "kernelspec": {
   "display_name": "Python 3",
   "language": "python",
   "name": "python3"
  },
  "language_info": {
   "codemirror_mode": {
    "name": "ipython",
    "version": 3
   },
   "file_extension": ".py",
   "mimetype": "text/x-python",
   "name": "python",
   "nbconvert_exporter": "python",
   "pygments_lexer": "ipython3",
   "version": "3.9.19"
  }
 },
 "nbformat": 4,
 "nbformat_minor": 2
}
