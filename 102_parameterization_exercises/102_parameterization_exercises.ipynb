{
 "cells": [
  {
   "cell_type": "code",
   "execution_count": null,
   "metadata": {},
   "outputs": [],
   "source": [
    "!pip install libigl matplotlib numpy polyscope gpytoolbox"
   ]
  },
  {
   "cell_type": "markdown",
   "metadata": {},
   "source": [
    "## Introduction to Mesh Parameterization: Exercises\n",
    "In this notebook you will perform the same analysis you did in 101 on more complex meshes, and try your hand at more complicated parameterization techniques. "
   ]
  },
  {
   "cell_type": "markdown",
   "metadata": {},
   "source": [
    "### Part 1: Fixed Boundary Parameterization and Distortion Analysis ###\n",
    "In this folder you are given 2 meshes -- halfbunny.obj and ogre.obj. Load each of these meshes using gpytoolbox and use the code from notebook 101 to perform the analyses in the next few code blocks. "
   ]
  },
  {
   "cell_type": "code",
   "execution_count": null,
   "metadata": {},
   "outputs": [],
   "source": [
    "# Loading required packages\n",
    "import numpy as np\n",
    "import polyscope as ps"
   ]
  },
  {
   "cell_type": "markdown",
   "metadata": {},
   "source": [
    "#### 1.1 halfbunny.obj"
   ]
  },
  {
   "cell_type": "code",
   "execution_count": null,
   "metadata": {},
   "outputs": [],
   "source": [
    "### TODO: use gpytoolbox to load in halfbunny.obj\n",
    "\n",
    "\n",
    "### TODO: Use the below code copied from notebook 101 to get the boundary and non-boundary edges of the imported mesh\n",
    "# from igl import boundary_loop\n",
    "\n",
    "# bnd = boundary_loop(MESH_FACES)\n",
    "# boundary_idxs = list(sorted(bnd))\n",
    "\n",
    "# NOTE: pin the boundary to a circle -- can no longer define this by hand\n",
    "# from igl import map_vertices_to_circle\n",
    "# boundary_positions = map_vertices_to_circle(MESH_VERTICES, bnd).astype(MESH_VERTICES.dtype)\n",
    "# NOTE: Resort the positions to match the order of boundary_idxs\n",
    "# boundary_positions = boundary_positions[np.argsort(bnd)]\n",
    "\n",
    "# pred_idxs = np.array([i for i in range(MESH_VERTICES.shape[0]) if i not in boundary_idxs])\n",
    "\n",
    "# # Get edge array\n",
    "# from collections import defaultdict\n",
    "# edges = defaultdict(int)\n",
    "# for f in MESH_FACES:\n",
    "#     for i in range(3):\n",
    "#         if f[i] > f[(i+1)%3]:\n",
    "#             edges[(f[(i+1)%3], f[i])] += 1\n",
    "#         else:\n",
    "#             edges[(f[i], f[(i+1)%3])] += 1\n",
    "\n",
    "# # Valid edges are the ones that are shared by two faces\n",
    "# tot_edges = np.array(list(edges.keys()))\n",
    "# valid_edges = np.array([k for k, v in edges.items() if v == 2])\n",
    "# boundary_edges = np.array([k for k, v in edges.items() if v == 1])"
   ]
  },
  {
   "cell_type": "markdown",
   "metadata": {},
   "source": [
    "Note in the example code that the process for computing the fixed boundary parameterizations for these meshes will be almost exactly the same as in exercise 101, except it is no longer so trivial to define the boundary positions. Instead, we will make use of libigl to fix the boundary vertices to a circle (standard convex domain). This is done using these additional lines in the example code\n",
    "\n",
    "```\n",
    "from igl import map_vertices_to_circle\n",
    "boundary_positions = map_vertices_to_circle(MESH_VERTICES, bnd).astype(MESH_VERTICES.dtype)\n",
    "boundary_positions = boundary_positions[np.argsort(bnd)]\n",
    "```"
   ]
  },
  {
   "cell_type": "code",
   "execution_count": null,
   "metadata": {},
   "outputs": [],
   "source": [
    "# TODO: Copy over the setup_parameterization_matrices() function from notebook 101 and use it to compute\n",
    "# 1) The Tutte parameterization (all weights of 1)\n",
    "# 2) The Mean Value weights parameterization (see formula and code for computing the mean value weights from notebook 101)"
   ]
  },
  {
   "cell_type": "code",
   "execution_count": null,
   "metadata": {},
   "outputs": [],
   "source": [
    "# TODO: Visualize the mesh and the computed UV maps using polyscope"
   ]
  },
  {
   "cell_type": "code",
   "execution_count": null,
   "metadata": {},
   "outputs": [],
   "source": [
    "# TODO: Copy over the get_jacobian() function from notebook 101 and use it to\n",
    "# compute the area, conformal, and isometric distortion for each parameterization."
   ]
  },
  {
   "cell_type": "code",
   "execution_count": null,
   "metadata": {},
   "outputs": [],
   "source": [
    "# TODO: Visualize the computed distortion energies using polyscope"
   ]
  },
  {
   "cell_type": "markdown",
   "metadata": {},
   "source": [
    "#### 1.2 ogre.obj\n",
    "Note that this is a significantly larger mesh so expect `np.linalg.solve()` to take a few minutes to run! "
   ]
  },
  {
   "cell_type": "code",
   "execution_count": null,
   "metadata": {},
   "outputs": [],
   "source": [
    "# TODO: use gpytoolbox to load in ogre.obj\n",
    "\n",
    "\n",
    "# TODO: Use the below code copied from notebook 101 to get the boundary and non-boundary edges of the imported mesh\n",
    "# from igl import boundary_loop\n",
    "\n",
    "# bnd = boundary_loop(MESH_FACES)\n",
    "# boundary_idxs = list(sorted(bnd))\n",
    "\n",
    "# NOTE: pin the boundary to a circle -- can no longer define this by hand\n",
    "# from igl import map_vertices_to_circle\n",
    "# boundary_positions = map_vertices_to_circle(MESH_VERTICES, bnd).astype(MESH_VERTICES.dtype)\n",
    "# NOTE: Resort the positions to match the order of boundary_idxs\n",
    "# boundary_positions = boundary_positions[np.argsort(bnd)]\n",
    "# pred_idxs = np.array([i for i in range(pyramid_vs.shape[0]) if i not in boundary_idxs])\n",
    "\n",
    "# # Get edge array\n",
    "# from collections import defaultdict\n",
    "# edges = defaultdict(int)\n",
    "# for f in MESH_FACES:\n",
    "#     for i in range(3):\n",
    "#         if f[i] > f[(i+1)%3]:\n",
    "#             edges[(f[(i+1)%3], f[i])] += 1\n",
    "#         else:\n",
    "#             edges[(f[i], f[(i+1)%3])] += 1\n",
    "\n",
    "# # Valid edges are the ones that are shared by two faces\n",
    "# tot_edges = np.array(list(edges.keys()))\n",
    "# valid_edges = np.array([k for k, v in edges.items() if v == 2])\n",
    "# boundary_edges = np.array([k for k, v in edges.items() if v == 1])"
   ]
  },
  {
   "cell_type": "code",
   "execution_count": null,
   "metadata": {},
   "outputs": [],
   "source": [
    "# TODO: Copy over the setup_parameterization_matrices() function from notebook 101 and use it to compute\n",
    "# 1) The Tutte parameterization (all weights of 1)\n",
    "# 2) The Mean Value weights parameterization (see formula and code for computing the mean value weights from notebook 101)"
   ]
  },
  {
   "cell_type": "code",
   "execution_count": null,
   "metadata": {},
   "outputs": [],
   "source": [
    "# TODO: Visualize the mesh and the computed UV maps using polyscope"
   ]
  },
  {
   "cell_type": "code",
   "execution_count": null,
   "metadata": {},
   "outputs": [],
   "source": [
    "# TODO: Copy over the get_jacobian() function from notebook 101 and use it to\n",
    "# compute the area, conformal, and isometric distortion for each parameterization."
   ]
  },
  {
   "cell_type": "code",
   "execution_count": null,
   "metadata": {},
   "outputs": [],
   "source": [
    "# TODO: Visualize the computed distortion energies using polyscope"
   ]
  },
  {
   "cell_type": "markdown",
   "metadata": {},
   "source": [
    "### Part 2: LSCM and ARAP ###\n",
    "In this part you will use two more advanced parameterization techniques to flatten the same meshes. \n",
    "\n",
    "These two methods are Least Squares Conformal Maps [(LSCM)](https://www.cs.jhu.edu/~misha/Fall09/Levy02.pdf) and As-Rigid-As-Possible Mesh Parameterization [(ARAP)](https://cs.harvard.edu/~sjg/papers/arap.pdf). \n",
    "\n",
    "As you will see, these are two examples of **free boundary** methods (though LSCM technically requires two vertices to be pinned), which allows the boundary to move independently to perform the desired distortion minimization. "
   ]
  },
  {
   "cell_type": "markdown",
   "metadata": {},
   "source": [
    "#### 2.1 Least Squares Conformal Maps [(LSCM)](https://www.cs.jhu.edu/~misha/Fall09/Levy02.pdf)\n",
    "As the name implies, LSCM is a **conformal** method, meaning it aims to minimize the conformal (angular) distortion of the parameterization, using a least squares solve. Deriving and computing this method by hand is beyond the scope of this exercise, so we will be using libigl's `lscm()` function to do the computation for us. \n",
    "\n",
    "One important note is that LSCM requires two vertices to be pinned in the plane to make the least-squared system well-determined (so there is a unique solution). Technically any two vertices can be chosen, but in practice vertices at the opposite end of a boundary loop are usually the best choice for method performance. The code commented below gives an example of computing the LSCM parameterization using libigl. "
   ]
  },
  {
   "cell_type": "code",
   "execution_count": null,
   "metadata": {},
   "outputs": [],
   "source": [
    "# TODO: Use the below example code to compute the LSCM parameterization of halfbunny.obj and ogre.obj\n",
    "# from igl import boundary_loop, lscm\n",
    "\n",
    "# bdry = boundary_loop(mesh.faces)\n",
    "\n",
    "# b = np.array([bdry[0], bdry[int(len(bdry)/2)]], dtype=\"int\")\n",
    "# bc = np.array([[0, 0], [1, 1]], dtype=np.float32)\n",
    "# succ, lscm_uv, error = lscm(mesh.vertices, mesh.faces, b, bc)"
   ]
  },
  {
   "cell_type": "code",
   "execution_count": null,
   "metadata": {},
   "outputs": [],
   "source": [
    "# TODO: Compute the area, conformal, and isometric distortion for the LSCM parameterization of halfbunny.obj and ogre.obj"
   ]
  },
  {
   "cell_type": "code",
   "execution_count": null,
   "metadata": {},
   "outputs": [],
   "source": [
    "# TODO: Compare the distortions of the LSCM results against the Tutte and Mean Value weights parameterizations\n",
    "# The LSCM conformal result should be close to 0. What about the area and isometric distortions?"
   ]
  },
  {
   "cell_type": "code",
   "execution_count": null,
   "metadata": {},
   "outputs": [],
   "source": [
    "# TODO: Visualize the distortion values using Polyscope"
   ]
  },
  {
   "cell_type": "markdown",
   "metadata": {},
   "source": [
    "#### 2.2 As-Rigid-As-Possible Mesh Parameterization [(ARAP)](https://cs.harvard.edu/~sjg/papers/arap.pdf)\n",
    "The ARAP method aims to minimize isometric distortion (both area and angles), using a non-linear algorithm which alternates between local and global optimization steps. The method requires an initial UV map as input, so we use a harmonic parameterization as an initial guess. "
   ]
  },
  {
   "cell_type": "code",
   "execution_count": null,
   "metadata": {},
   "outputs": [],
   "source": [
    "# TODO: Use the below example code to compute the ARAP parameterization of halfbunny.obj and ogre.obj\n",
    "# from igl import ARAP, boundary_loop, harmonic, map_vertices_to_circle\n",
    "# bnd = boundary_loop(mesh.faces)\n",
    "# bnd_uv = map_vertices_to_circle(mesh.vertices, bnd).astype(mesh.vertices.dtype)\n",
    "# initial_uv = harmonic(mesh.vertices, mesh.faces, bnd, bnd_uv, 1)\n",
    "# arap = ARAP(mesh.vertices, mesh.faces, 2, np.zeros(0), with_dynamics=True)\n",
    "# arap_uv = arap.solve(np.zeros((0,0)), initial_uv)"
   ]
  },
  {
   "cell_type": "code",
   "execution_count": null,
   "metadata": {},
   "outputs": [],
   "source": [
    "# TODO: Compute the area, conformal, and isometric distortion for the LSCM parameterization of halfbunny.obj and ogre.obj"
   ]
  },
  {
   "cell_type": "code",
   "execution_count": null,
   "metadata": {},
   "outputs": [],
   "source": [
    "# TODO: Compare the distortions of the ARAP results against the LSCM parameterization"
   ]
  },
  {
   "cell_type": "code",
   "execution_count": null,
   "metadata": {},
   "outputs": [],
   "source": [
    "# TODO: Visualize the distortion values using Polyscope"
   ]
  }
 ],
 "metadata": {
  "kernelspec": {
   "display_name": "Python 3",
   "language": "python",
   "name": "python3"
  },
  "language_info": {
   "codemirror_mode": {
    "name": "ipython",
    "version": 3
   },
   "file_extension": ".py",
   "mimetype": "text/x-python",
   "name": "python",
   "nbconvert_exporter": "python",
   "pygments_lexer": "ipython3",
   "version": "3.9.-1"
  }
 },
 "nbformat": 4,
 "nbformat_minor": 2
}
